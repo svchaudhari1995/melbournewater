{
  "nbformat": 4,
  "nbformat_minor": 0,
  "metadata": {
    "colab": {
      "name": "Hello,_Colaboratory (2).ipynb",
      "version": "0.3.2",
      "provenance": [],
      "collapsed_sections": []
    },
    "kernelspec": {
      "display_name": "Python 3",
      "name": "python3"
    }
  },
  "cells": [
    {
      "metadata": {
        "id": "ab9JnijZMV3O",
        "colab_type": "code",
        "colab": {
          "base_uri": "https://localhost:8080/",
          "height": 102
        },
        "outputId": "55083ff5-9195-4b4e-de93-72da161c4a40"
      },
      "cell_type": "code",
      "source": [
        "#!git clone https://github.com/anupamhap/mb.git\n",
        "!git clone https://github.com/svchaudhari1995/melbournewater.git"
      ],
      "execution_count": 2,
      "outputs": [
        {
          "output_type": "stream",
          "text": [
            "Cloning into 'melbournewater'...\n",
            "remote: Counting objects: 325, done.\u001b[K\n",
            "remote: Total 325 (delta 0), reused 0 (delta 0), pack-reused 325\u001b[K\n",
            "Receiving objects: 100% (325/325), 53.94 MiB | 49.05 MiB/s, done.\n",
            "Resolving deltas: 100% (37/37), done.\n"
          ],
          "name": "stdout"
        }
      ]
    },
    {
      "metadata": {
        "id": "zLeI0uuCM6y5",
        "colab_type": "code",
        "colab": {
          "base_uri": "https://localhost:8080/",
          "height": 34
        },
        "outputId": "f3ea4ad6-32c0-454b-eeed-e3608dc03ebc"
      },
      "cell_type": "code",
      "source": [
        "!pwd"
      ],
      "execution_count": 0,
      "outputs": [
        {
          "output_type": "stream",
          "text": [
            "/content\r\n"
          ],
          "name": "stdout"
        }
      ]
    },
    {
      "metadata": {
        "id": "Tde9EpwqNse-",
        "colab_type": "code",
        "colab": {}
      },
      "cell_type": "code",
      "source": [
        "import os\n",
        "os.chdir(\"melbournewater\")\n"
      ],
      "execution_count": 0,
      "outputs": []
    },
    {
      "metadata": {
        "id": "Js9yzZEQN7H7",
        "colab_type": "code",
        "colab": {
          "base_uri": "https://localhost:8080/",
          "height": 34
        },
        "outputId": "02451277-d74d-40d3-aaf6-7f5572a3354e"
      },
      "cell_type": "code",
      "source": [
        "# !rm -rf melbournewater\n",
        "!ls\n",
        "# !git pull"
      ],
      "execution_count": 9,
      "outputs": [
        {
          "output_type": "stream",
          "text": [
            "data  Debris Detection\theatmap added.ipynb  README.md\ttest6.PNG\r\n"
          ],
          "name": "stdout"
        }
      ]
    },
    {
      "metadata": {
        "id": "_kwW0eTmOCrv",
        "colab_type": "code",
        "colab": {}
      },
      "cell_type": "code",
      "source": [
        "import csv\n",
        "import matplotlib.image as mpimg\n",
        "import cv2\n",
        "import numpy as np\n",
        "import os\n",
        "import logging\n",
        "import glob"
      ],
      "execution_count": 0,
      "outputs": []
    },
    {
      "metadata": {
        "id": "KZdoJrWpOXk1",
        "colab_type": "code",
        "colab": {
          "base_uri": "https://localhost:8080/",
          "height": 34
        },
        "outputId": "ab3bfac0-60e5-44f8-d72f-ac1401235c9e"
      },
      "cell_type": "code",
      "source": [
        "from keras.models import Sequential\n",
        "from keras.layers import Flatten, Dense, Lambda, Dropout, Activation, Cropping2D\n",
        "from keras.layers.convolutional import Convolution2D\n",
        "from keras.layers.pooling import MaxPooling2D\n",
        "from sklearn.model_selection import train_test_split\n",
        "import sklearn"
      ],
      "execution_count": 5,
      "outputs": [
        {
          "output_type": "stream",
          "text": [
            "Using TensorFlow backend.\n"
          ],
          "name": "stderr"
        }
      ]
    },
    {
      "metadata": {
        "id": "UIPgIYrkOaPq",
        "colab_type": "code",
        "colab": {}
      },
      "cell_type": "code",
      "source": [
        ""
      ],
      "execution_count": 0,
      "outputs": []
    },
    {
      "metadata": {
        "id": "_qI3POGKPQQh",
        "colab_type": "code",
        "colab": {}
      },
      "cell_type": "code",
      "source": [
        "width = 58\n",
        "height = 58\n",
        "\n",
        "images = []"
      ],
      "execution_count": 0,
      "outputs": []
    },
    {
      "metadata": {
        "id": "_9gdSeYyPGwy",
        "colab_type": "code",
        "colab": {
          "base_uri": "https://localhost:8080/",
          "height": 51
        },
        "outputId": "b3ac8f13-1c07-40e3-891c-b148fd44ca12"
      },
      "cell_type": "code",
      "source": [
        "roots   = glob.glob('data/debris177/*.PNG')\n",
        "non_roots   = glob.glob('data/nondebris177/*.PNG')\n",
        "# non_roots   += glob.glob('data/non_tree/*.jpg')\n",
        "print(len(roots), len(non_roots))\n",
        "img=cv2.imread(roots[0])\n",
        "print(img.shape)"
      ],
      "execution_count": 10,
      "outputs": [
        {
          "output_type": "stream",
          "text": [
            "22 34\n",
            "(104, 107, 3)\n"
          ],
          "name": "stdout"
        }
      ]
    },
    {
      "metadata": {
        "id": "mSTthRlVPhKn",
        "colab_type": "code",
        "colab": {}
      },
      "cell_type": "code",
      "source": [
        "img_size=64\n",
        "def show3img(img, img1, img2):\n",
        "   plt.figure(figsize=(6, 2))\n",
        "   plt.subplot(1, 3, 1)\n",
        "   plt.imshow(img)\n",
        "   plt.title(\"Raw image\")\n",
        "   plt.subplot(1, 3, 2)\n",
        "   plt.imshow(img1)\n",
        "   plt.title(\"Processed image\")\n",
        "   plt.subplot(1, 3, 3)\n",
        "   plt.imshow(img2)\n",
        "   plt.title(\"Augmented image\")\n",
        "   plt.show()\n",
        "   \n",
        "def eq_Hist(img):\n",
        "   #Histogram Equalization\n",
        "   img2=img.copy()\n",
        "   img2[:, :, 0] = cv2.equalizeHist(img[:, :, 0])\n",
        "   img2[:, :, 1] = cv2.equalizeHist(img[:, :, 1])\n",
        "   img2[:, :, 2] = cv2.equalizeHist(img[:, :, 2])\n",
        "   return img2\n",
        "\n",
        "def scale_img(img):\n",
        "   img2=img.copy()\n",
        "   sc_y=0.4*np.random.rand()+1.0\n",
        "   img2=cv2.resize(img, None, fx=1, fy=sc_y, interpolation = cv2.INTER_CUBIC)\n",
        "   c_x,c_y, sh = int(img2.shape[0]/2), int(img2.shape[1]/2), int(img_size/2)\n",
        "   return img2\n",
        "\n",
        "def crop(img, mar=0):\n",
        "   c_x,c_y, sh = int(img.shape[0]/2), int(img.shape[1]/2), int(img_size/2-mar)\n",
        "   return img[(c_x-sh):(c_x+sh),(c_y-sh):(c_y+sh)]\n",
        "\n",
        "def rotate_img(img):\n",
        "   c_x,c_y = int(img.shape[0]/2), int(img.shape[1]/2)\n",
        "   ang = 30.0*np.random.rand()-15\n",
        "   Mat = cv2.getRotationMatrix2D((c_x, c_y), ang, 1.0)\n",
        "   return cv2.warpAffine(img, Mat, img.shape[:2])\n",
        "\n",
        "def sharpen_img(img):\n",
        "   gb = cv2.GaussianBlur(img, (5,5), 20.0)\n",
        "   return cv2.addWeighted(img, 2, gb, -1, 0)\n",
        "#Compute linear image transformation ing*s+m\n",
        "def lin_img(img,s=1.0,m=0.0):\n",
        "   img2=cv2.multiply(img, np.array([s]))\n",
        "   return cv2.add(img2, np.array([m]))\n",
        "\n",
        "#Change image contrast; s>1 - increase\n",
        "def contr_img(img, s=1.0):\n",
        "   m=127.0*(1.0-s)\n",
        "   return lin_img(img, s, m)\n",
        "\n",
        "def transform_img(img):\n",
        "   img2=sharpen_img(img)\n",
        "   img2=crop(img2,3)\n",
        "   img2=contr_img(img2, 1.5)\n",
        "   return eq_Hist(img2)\n",
        "\n",
        "def augment_img(img):\n",
        "   img=contr_img(img, 1.8*np.random.rand()+0.2)\n",
        "   img=rotate_img(img)\n",
        "   img=scale_img(img)\n",
        "   return transform_img(img)\n"
      ],
      "execution_count": 0,
      "outputs": []
    },
    {
      "metadata": {
        "id": "3yWr5ZHEQqZT",
        "colab_type": "code",
        "colab": {
          "base_uri": "https://localhost:8080/",
          "height": 34
        },
        "outputId": "4e38e282-f85f-41c3-f899-a1567ad3ba85"
      },
      "cell_type": "code",
      "source": [
        "X_train_aug_roots = []\n",
        "y_train_aug = []\n",
        "\n",
        "def create_data(n=10):\n",
        "   for i in range(len(roots)):\n",
        "       img=cv2.imread(roots[i])\n",
        "       img=cv2.resize(img, (64, 64))\n",
        "       X_train_aug_roots.append(transform_img(img))\n",
        "       y_train_aug.append(1)\n",
        "       #Generate n new images out of each input image\n",
        "       for j in range(n):\n",
        "           X_train_aug_roots.append(augment_img(img))\n",
        "           y_train_aug.append(1)      \n",
        "   print(\"Total number of images in the augmented dataset = \", len(X_train_aug_roots))\n",
        "\n",
        "create_data(20)"
      ],
      "execution_count": 104,
      "outputs": [
        {
          "output_type": "stream",
          "text": [
            "Total number of images in the augmented dataset =  462\n"
          ],
          "name": "stdout"
        }
      ]
    },
    {
      "metadata": {
        "id": "gsDy9FImQ2dA",
        "colab_type": "code",
        "colab": {
          "base_uri": "https://localhost:8080/",
          "height": 34
        },
        "outputId": "2880dd1c-13d6-4b94-d8cf-6711436c5c38"
      },
      "cell_type": "code",
      "source": [
        "def create_data(n=10):\n",
        "   for i in range(len(non_roots)):\n",
        "       img=cv2.imread(non_roots[i])\n",
        "       img=cv2.resize(img, (64, 64))\n",
        "       X_train_aug_roots.append(transform_img(img))\n",
        "       y_train_aug.append(0)\n",
        "       #Generate n new images out of each input image\n",
        "       for j in range(n):\n",
        "           X_train_aug_roots.append(augment_img(img))\n",
        "           y_train_aug.append(0)      \n",
        "   print(\"Total number of images in the augmented dataset = \", len(X_train_aug_roots))\n",
        "\n",
        "create_data(20)"
      ],
      "execution_count": 105,
      "outputs": [
        {
          "output_type": "stream",
          "text": [
            "Total number of images in the augmented dataset =  1176\n"
          ],
          "name": "stdout"
        }
      ]
    },
    {
      "metadata": {
        "id": "CblQUREDjv6Y",
        "colab_type": "code",
        "colab": {
          "base_uri": "https://localhost:8080/",
          "height": 51
        },
        "outputId": "e61db8dc-6bb2-4915-9ed7-79d40ed0e79f"
      },
      "cell_type": "code",
      "source": [
        "print(len(roots))\n",
        "print(X_train_aug_roots[0].shape)"
      ],
      "execution_count": 106,
      "outputs": [
        {
          "output_type": "stream",
          "text": [
            "22\n",
            "(58, 58, 3)\n"
          ],
          "name": "stdout"
        }
      ]
    },
    {
      "metadata": {
        "id": "-6yLv7-HQ6Qz",
        "colab_type": "code",
        "colab": {
          "base_uri": "https://localhost:8080/",
          "height": 34
        },
        "outputId": "1a0bbe8a-7283-4cb9-8eae-86105dfd6c6a"
      },
      "cell_type": "code",
      "source": [
        "for i in range(len(roots)):\n",
        "     img=cv2.imread(roots[i])\n",
        "     img=cv2.resize(img, (58, 58))\n",
        "     X_train_aug_roots.append(img)\n",
        "     y_train_aug.append(1)\n",
        "\n",
        "for i in range(len(non_roots)):\n",
        "     img=cv2.imread(non_roots[i])\n",
        "     img=cv2.resize(img, (58, 58))\n",
        "     X_train_aug_roots.append(img)\n",
        "     y_train_aug.append(0)\n",
        "   \n",
        "print(len(y_train_aug))"
      ],
      "execution_count": 107,
      "outputs": [
        {
          "output_type": "stream",
          "text": [
            "1232\n"
          ],
          "name": "stdout"
        }
      ]
    },
    {
      "metadata": {
        "id": "_Ws5CHJ6Q_GC",
        "colab_type": "code",
        "colab": {}
      },
      "cell_type": "code",
      "source": [
        "activation = 'relu'\n",
        "dropout = 1\n",
        "\n",
        "def model(dshape):\n",
        "    \n",
        "    seq_model = Sequential()\n",
        "\n",
        "    seq_model.add(BatchNormalization(input_shape=(dshape[0], dshape[1], dshape[2])))\n",
        "    seq_model.add(Conv2D(24, (5, 5), padding='valid',\n",
        "                  activation=activation, strides=(2, 2)))\n",
        "\n",
        "    seq_model.add(Conv2D(36, (5, 5), padding='valid', activation=activation, strides=(2, 2)))\n",
        "    seq_model.add(Dropout(0.6))\n",
        "    seq_model.add(Conv2D(48, (5, 5), padding='valid', activation=activation, strides=(2, 2)))\n",
        "    seq_model.add(Dropout(0.6))\n",
        "    seq_model.add(Conv2D(64, (3, 3), padding='valid', activation=activation))\n",
        "    seq_model.add(Dropout(0.6))\n",
        "#   seq_model.add(Conv2D(64, (3, 3), padding='valid', activation=activation))\n",
        "    seq_model.add(Flatten())\n",
        "    seq_model.add(Dropout(0.6))\n",
        "    seq_model.add(Dense(100, activation=activation))\n",
        "    seq_model.add(Dropout(0.5))\n",
        "    seq_model.add(Dense(50, activation=activation))\n",
        "    seq_model.add(Dropout(0.3))\n",
        "    seq_model.add(Dense(10, activation=activation))\n",
        "    seq_model.add(Dense(1, activation='sigmoid'))\n",
        "    seq_model.compile(loss='binary_crossentropy', optimizer=adam(), metrics=['accuracy'])\n",
        "    seq_model.summary()\n",
        "\n",
        "    return seq_model"
      ],
      "execution_count": 0,
      "outputs": []
    },
    {
      "metadata": {
        "id": "8daIf7EYQ9Cb",
        "colab_type": "code",
        "colab": {}
      },
      "cell_type": "code",
      "source": [
        "from sklearn.utils import shuffle\n",
        "from keras.utils.data_utils import Sequence\n",
        "\n",
        "images, labels = shuffle(X_train_aug_roots, y_train_aug)"
      ],
      "execution_count": 0,
      "outputs": []
    },
    {
      "metadata": {
        "id": "pbtYATC6jm6T",
        "colab_type": "code",
        "colab": {}
      },
      "cell_type": "code",
      "source": [
        "for i in range(len(X_train_aug_roots)):\n",
        "  if(X_train_aug_roots[i].shape[2]!=3):\n",
        "    print(X_train_aug_roots[i].shape)"
      ],
      "execution_count": 0,
      "outputs": []
    },
    {
      "metadata": {
        "id": "Bdwr1ereT9_4",
        "colab_type": "code",
        "colab": {
          "base_uri": "https://localhost:8080/",
          "height": 68
        },
        "outputId": "5fde2bb5-ea8c-4cea-8e7f-3b847b97034d"
      },
      "cell_type": "code",
      "source": [
        "images = np.asarray(images)\n",
        "labels = np.asarray(labels)\n",
        "print(images.dtype, images.shape)\n",
        "print(type(images))\n",
        "print(labels)"
      ],
      "execution_count": 111,
      "outputs": [
        {
          "output_type": "stream",
          "text": [
            "uint8 (1232, 58, 58, 3)\n",
            "<class 'numpy.ndarray'>\n",
            "[0 1 1 ... 0 0 1]\n"
          ],
          "name": "stdout"
        }
      ]
    },
    {
      "metadata": {
        "id": "sqlcGYWFRYS6",
        "colab_type": "code",
        "colab": {
          "base_uri": "https://localhost:8080/",
          "height": 680
        },
        "outputId": "e941460d-9121-49be-c5c2-ad0c865941ce"
      },
      "cell_type": "code",
      "source": [
        "from keras.models import Sequential\n",
        "from keras.layers import Dense, Flatten, Conv2D, Dropout\n",
        "from keras.layers.normalization import BatchNormalization\n",
        "from keras.optimizers import adam\n",
        "#from keras.utils.data_utils import Sequence\n",
        "\n",
        "keras_model = model((height, width, 3))"
      ],
      "execution_count": 112,
      "outputs": [
        {
          "output_type": "stream",
          "text": [
            "_________________________________________________________________\n",
            "Layer (type)                 Output Shape              Param #   \n",
            "=================================================================\n",
            "batch_normalization_3 (Batch (None, 58, 58, 3)         12        \n",
            "_________________________________________________________________\n",
            "conv2d_9 (Conv2D)            (None, 27, 27, 24)        1824      \n",
            "_________________________________________________________________\n",
            "conv2d_10 (Conv2D)           (None, 12, 12, 36)        21636     \n",
            "_________________________________________________________________\n",
            "dropout_13 (Dropout)         (None, 12, 12, 36)        0         \n",
            "_________________________________________________________________\n",
            "conv2d_11 (Conv2D)           (None, 4, 4, 48)          43248     \n",
            "_________________________________________________________________\n",
            "dropout_14 (Dropout)         (None, 4, 4, 48)          0         \n",
            "_________________________________________________________________\n",
            "conv2d_12 (Conv2D)           (None, 2, 2, 64)          27712     \n",
            "_________________________________________________________________\n",
            "dropout_15 (Dropout)         (None, 2, 2, 64)          0         \n",
            "_________________________________________________________________\n",
            "flatten_3 (Flatten)          (None, 256)               0         \n",
            "_________________________________________________________________\n",
            "dropout_16 (Dropout)         (None, 256)               0         \n",
            "_________________________________________________________________\n",
            "dense_9 (Dense)              (None, 100)               25700     \n",
            "_________________________________________________________________\n",
            "dropout_17 (Dropout)         (None, 100)               0         \n",
            "_________________________________________________________________\n",
            "dense_10 (Dense)             (None, 50)                5050      \n",
            "_________________________________________________________________\n",
            "dropout_18 (Dropout)         (None, 50)                0         \n",
            "_________________________________________________________________\n",
            "dense_11 (Dense)             (None, 10)                510       \n",
            "_________________________________________________________________\n",
            "dense_12 (Dense)             (None, 1)                 11        \n",
            "=================================================================\n",
            "Total params: 125,703\n",
            "Trainable params: 125,697\n",
            "Non-trainable params: 6\n",
            "_________________________________________________________________\n"
          ],
          "name": "stdout"
        }
      ]
    },
    {
      "metadata": {
        "id": "dAuVfM5PRb0-",
        "colab_type": "code",
        "colab": {
          "base_uri": "https://localhost:8080/",
          "height": 1261
        },
        "outputId": "95fe7f59-f501-4966-ed60-7eaf3b5b3c5f"
      },
      "cell_type": "code",
      "source": [
        "keras_model.fit(images, labels, epochs=35, batch_size=32, verbose=1, shuffle=True, validation_split=0.2)"
      ],
      "execution_count": 113,
      "outputs": [
        {
          "output_type": "stream",
          "text": [
            "Train on 985 samples, validate on 247 samples\n",
            "Epoch 1/35\n",
            "985/985 [==============================] - 5s 5ms/step - loss: 0.7020 - acc: 0.5411 - val_loss: 0.6881 - val_acc: 0.6397\n",
            "Epoch 2/35\n",
            "985/985 [==============================] - 4s 4ms/step - loss: 0.6879 - acc: 0.5503 - val_loss: 0.6772 - val_acc: 0.6397\n",
            "Epoch 3/35\n",
            "985/985 [==============================] - 4s 4ms/step - loss: 0.6750 - acc: 0.5868 - val_loss: 0.6576 - val_acc: 0.6397\n",
            "Epoch 4/35\n",
            "985/985 [==============================] - 4s 4ms/step - loss: 0.6585 - acc: 0.5898 - val_loss: 0.6190 - val_acc: 0.6397\n",
            "Epoch 5/35\n",
            "985/985 [==============================] - 4s 4ms/step - loss: 0.6063 - acc: 0.5980 - val_loss: 0.5537 - val_acc: 0.6397\n",
            "Epoch 6/35\n",
            "985/985 [==============================] - 4s 4ms/step - loss: 0.5470 - acc: 0.5990 - val_loss: 0.4730 - val_acc: 0.6397\n",
            "Epoch 7/35\n",
            "448/985 [============>.................] - ETA: 1s - loss: 0.4972 - acc: 0.6094"
          ],
          "name": "stdout"
        },
        {
          "output_type": "stream",
          "text": [
            "985/985 [==============================] - 4s 4ms/step - loss: 0.4774 - acc: 0.6102 - val_loss: 0.3820 - val_acc: 0.8785\n",
            "Epoch 8/35\n",
            "985/985 [==============================] - 4s 4ms/step - loss: 0.4283 - acc: 0.7655 - val_loss: 0.3299 - val_acc: 0.9312\n",
            "Epoch 9/35\n",
            "985/985 [==============================] - 4s 4ms/step - loss: 0.4350 - acc: 0.8223 - val_loss: 0.3094 - val_acc: 0.9474\n",
            "Epoch 10/35\n",
            "985/985 [==============================] - 4s 4ms/step - loss: 0.3924 - acc: 0.8548 - val_loss: 0.3184 - val_acc: 0.9231\n",
            "Epoch 11/35\n",
            "985/985 [==============================] - 4s 4ms/step - loss: 0.3810 - acc: 0.8701 - val_loss: 0.2714 - val_acc: 0.9474\n",
            "Epoch 12/35\n",
            "985/985 [==============================] - 4s 4ms/step - loss: 0.3523 - acc: 0.9036 - val_loss: 0.2585 - val_acc: 0.9676\n",
            "Epoch 13/35\n",
            "896/985 [==========================>...] - ETA: 0s - loss: 0.3184 - acc: 0.9241"
          ],
          "name": "stdout"
        },
        {
          "output_type": "stream",
          "text": [
            "985/985 [==============================] - 4s 4ms/step - loss: 0.3190 - acc: 0.9259 - val_loss: 0.2488 - val_acc: 0.9757\n",
            "Epoch 14/35\n",
            "985/985 [==============================] - 4s 4ms/step - loss: 0.3172 - acc: 0.9299 - val_loss: 0.2892 - val_acc: 0.9352\n",
            "Epoch 15/35\n",
            "985/985 [==============================] - 4s 4ms/step - loss: 0.3443 - acc: 0.9015 - val_loss: 0.2770 - val_acc: 0.9433\n",
            "Epoch 16/35\n",
            "985/985 [==============================] - 4s 4ms/step - loss: 0.3075 - acc: 0.9299 - val_loss: 0.2637 - val_acc: 0.9352\n",
            "Epoch 17/35\n",
            "985/985 [==============================] - 4s 4ms/step - loss: 0.2843 - acc: 0.9381 - val_loss: 0.2206 - val_acc: 0.9636\n",
            "Epoch 18/35\n",
            "985/985 [==============================] - 3s 4ms/step - loss: 0.2833 - acc: 0.9310 - val_loss: 0.1925 - val_acc: 0.9636\n",
            "Epoch 19/35\n",
            "896/985 [==========================>...] - ETA: 0s - loss: 0.2289 - acc: 0.9431"
          ],
          "name": "stdout"
        },
        {
          "output_type": "stream",
          "text": [
            "985/985 [==============================] - 3s 4ms/step - loss: 0.2471 - acc: 0.9401 - val_loss: 0.2237 - val_acc: 0.9231\n",
            "Epoch 20/35\n",
            "985/985 [==============================] - 3s 4ms/step - loss: 0.2613 - acc: 0.9086 - val_loss: 0.1668 - val_acc: 0.9352\n",
            "Epoch 21/35\n",
            "985/985 [==============================] - 3s 4ms/step - loss: 0.1779 - acc: 0.9371 - val_loss: 0.0808 - val_acc: 0.9798\n",
            "Epoch 22/35\n",
            "985/985 [==============================] - 4s 4ms/step - loss: 0.1410 - acc: 0.9553 - val_loss: 0.0669 - val_acc: 0.9757\n",
            "Epoch 23/35\n",
            "985/985 [==============================] - 3s 4ms/step - loss: 0.1493 - acc: 0.9401 - val_loss: 0.0743 - val_acc: 0.9757\n",
            "Epoch 24/35\n",
            "985/985 [==============================] - 3s 4ms/step - loss: 0.1690 - acc: 0.9472 - val_loss: 0.0570 - val_acc: 0.9838\n",
            "Epoch 25/35\n",
            "896/985 [==========================>...] - ETA: 0s - loss: 0.0903 - acc: 0.9609"
          ],
          "name": "stdout"
        },
        {
          "output_type": "stream",
          "text": [
            "985/985 [==============================] - 3s 4ms/step - loss: 0.0904 - acc: 0.9604 - val_loss: 0.0769 - val_acc: 0.9717\n",
            "Epoch 26/35\n",
            "985/985 [==============================] - 4s 4ms/step - loss: 0.1003 - acc: 0.9614 - val_loss: 0.0315 - val_acc: 0.9879\n",
            "Epoch 27/35\n",
            "985/985 [==============================] - 3s 4ms/step - loss: 0.0660 - acc: 0.9766 - val_loss: 0.0239 - val_acc: 0.9919\n",
            "Epoch 28/35\n",
            "985/985 [==============================] - 4s 4ms/step - loss: 0.0758 - acc: 0.9726 - val_loss: 0.0355 - val_acc: 0.9717\n",
            "Epoch 29/35\n",
            "985/985 [==============================] - 4s 4ms/step - loss: 0.0746 - acc: 0.9797 - val_loss: 0.0326 - val_acc: 0.9879\n",
            "Epoch 30/35\n",
            "985/985 [==============================] - 4s 4ms/step - loss: 0.0956 - acc: 0.9645 - val_loss: 0.0280 - val_acc: 0.9879\n",
            "Epoch 31/35\n",
            "896/985 [==========================>...] - ETA: 0s - loss: 0.0594 - acc: 0.9743"
          ],
          "name": "stdout"
        },
        {
          "output_type": "stream",
          "text": [
            "985/985 [==============================] - 4s 4ms/step - loss: 0.0620 - acc: 0.9716 - val_loss: 0.0356 - val_acc: 0.9757\n",
            "Epoch 32/35\n",
            "985/985 [==============================] - 4s 4ms/step - loss: 0.0666 - acc: 0.9706 - val_loss: 0.0355 - val_acc: 0.9717\n",
            "Epoch 33/35\n",
            "985/985 [==============================] - 4s 4ms/step - loss: 0.0747 - acc: 0.9746 - val_loss: 0.0291 - val_acc: 0.9879\n",
            "Epoch 34/35\n",
            "985/985 [==============================] - 4s 4ms/step - loss: 0.0780 - acc: 0.9756 - val_loss: 0.0266 - val_acc: 0.9757\n",
            "Epoch 35/35\n",
            "985/985 [==============================] - 4s 4ms/step - loss: 0.0753 - acc: 0.9655 - val_loss: 0.0493 - val_acc: 0.9676\n"
          ],
          "name": "stdout"
        },
        {
          "output_type": "execute_result",
          "data": {
            "text/plain": [
              "<keras.callbacks.History at 0x7f1d14e74978>"
            ]
          },
          "metadata": {
            "tags": []
          },
          "execution_count": 113
        }
      ]
    },
    {
      "metadata": {
        "id": "0hA2QvNNXtiR",
        "colab_type": "text"
      },
      "cell_type": "markdown",
      "source": [
        ""
      ]
    },
    {
      "metadata": {
        "id": "h2Sf2zrdB-O_",
        "colab_type": "text"
      },
      "cell_type": "markdown",
      "source": [
        ""
      ]
    },
    {
      "metadata": {
        "id": "g3E6Gw91R3xv",
        "colab_type": "code",
        "colab": {}
      },
      "cell_type": "code",
      "source": [
        "def  save_keras_model (save_model, path):\n",
        "    \"\"\"Save keras model to given path.\"\"\"\n",
        "    save_model.save_weights(path + 'model.h5')\n",
        "\n",
        "    with open(path + 'model.json', \"w\") as text_file:\n",
        "        text_file.write(save_model.to_json())\n",
        "\n",
        "    logging.info('Keras json model saved. %s', path + 'model.json')\n",
        "    logging.info('Keras h5 model saved. %s', path + 'model.h5')"
      ],
      "execution_count": 0,
      "outputs": []
    },
    {
      "metadata": {
        "id": "HBa7XHgqYbmX",
        "colab_type": "code",
        "colab": {}
      },
      "cell_type": "code",
      "source": [
        "save_keras_model(keras_model, 'keras')"
      ],
      "execution_count": 0,
      "outputs": []
    },
    {
      "metadata": {
        "id": "-Y4QXI-4Yl8D",
        "colab_type": "code",
        "colab": {
          "base_uri": "https://localhost:8080/",
          "height": 51
        },
        "outputId": "8c676d85-82a1-466c-87c3-5be5e417abc0"
      },
      "cell_type": "code",
      "source": [
        "# os.chdir('..')\n",
        "!ls"
      ],
      "execution_count": 29,
      "outputs": [
        {
          "output_type": "stream",
          "text": [
            "data\t\t  heatmap added.ipynb  kerasmodel.json\ttest6.PNG\r\n",
            "Debris Detection  kerasmodel.h5        README.md\r\n"
          ],
          "name": "stdout"
        }
      ]
    },
    {
      "metadata": {
        "id": "b3yFtGNTaKPk",
        "colab_type": "text"
      },
      "cell_type": "markdown",
      "source": [
        "# New Section"
      ]
    },
    {
      "metadata": {
        "id": "A9H1mNpgaP-0",
        "colab_type": "code",
        "colab": {}
      },
      "cell_type": "code",
      "source": [
        "from google.colab import files\n",
        "\n",
        "\n",
        "files.download('kerasmodel.h5')\n",
        "files.download('kerasmodel.json')\n"
      ],
      "execution_count": 0,
      "outputs": []
    },
    {
      "metadata": {
        "id": "Yf2bP-Oql3d_",
        "colab_type": "code",
        "colab": {}
      },
      "cell_type": "code",
      "source": [
        "from keras.models import model_from_json\n",
        "model_path = 'model/kerasmodel (1)'\n",
        "\n",
        "inf_model = model_from_json(open(model_path + '.json','r').read())\n",
        "inf_model.load_weights(model_path + '.h5')"
      ],
      "execution_count": 0,
      "outputs": []
    },
    {
      "metadata": {
        "id": "yRRItYYQameM",
        "colab_type": "code",
        "colab": {}
      },
      "cell_type": "code",
      "source": [
        "def find_roots(img, ystart, ystop, scale, pix_per_cell,cell_per_block):#, svc, X_scaler, orient, pix_per_cell, cell_per_block,color_space,spatial_size, hist_bins):\n",
        "    \n",
        "    boxes=[]\n",
        "  \n",
        "    draw_img = np.copy(img)\n",
        "#     img = img.astype(np.float32)/255\n",
        "    \n",
        "    img_tosearch = img[ystart:ystop,:,:]\n",
        "#     ctrans_tosearch = hp.convert_color(img_tosearch, conv=color_space)\n",
        "    ctrans_tosearch = img_tosearch\n",
        "    if scale != 1:\n",
        "        imshape = ctrans_tosearch.shape\n",
        "        ctrans_tosearch = cv2.resize(ctrans_tosearch, (np.int(imshape[1]/scale), np.int(imshape[0]/scale)))\n",
        "        \n",
        "    ch1 = ctrans_tosearch[:,:,0]\n",
        "    ch2 = ctrans_tosearch[:,:,1]\n",
        "    ch3 = ctrans_tosearch[:,:,2]\n",
        "\n",
        "    # Define blocks and steps as above\n",
        "    nxblocks = (ch1.shape[1] // pix_per_cell) - cell_per_block + 1\n",
        "    nyblocks = (ch1.shape[0] // pix_per_cell) - cell_per_block + 1 \n",
        "#     nfeat_per_block = orient*cell_per_block**2\n",
        "    \n",
        "    # 64 was the orginal sampling rate, with 8 cells and 8 pix per cell\n",
        "    window = 64\n",
        "    nblocks_per_window = (window // pix_per_cell) - cell_per_block + 1\n",
        "    cells_per_step = 2  # Instead of overlap, define how many cells to step\n",
        "    nxsteps = (nxblocks - nblocks_per_window) // cells_per_step + 1\n",
        "    nysteps = (nyblocks - nblocks_per_window) // cells_per_step + 1\n",
        "#     print(nxsteps)\n",
        "    \n",
        "#     # Compute individual channel HOG features for the entire image\n",
        "#     hog1 = get_hog_features(ch1, orient, pix_per_cell, cell_per_block, feature_vec=False)\n",
        "#     hog2 = get_hog_features(ch2, orient, pix_per_cell, cell_per_block, feature_vec=False)\n",
        "#     hog3 = get_hog_features(ch3, orient, pix_per_cell, cell_per_block, feature_vec=False)\n",
        "    \n",
        "    for xb in range(nxsteps):\n",
        "        for yb in range(nysteps):\n",
        "            ypos = yb*cells_per_step\n",
        "            xpos = xb*cells_per_step\n",
        "            # Extract HOG for this patch\n",
        "#             hog_feat1 = hog1[ypos:ypos+nblocks_per_window, xpos:xpos+nblocks_per_window].ravel() \n",
        "#             hog_feat2 = hog2[ypos:ypos+nblocks_per_window, xpos:xpos+nblocks_per_window].ravel() \n",
        "#             hog_feat3 = hog3[ypos:ypos+nblocks_per_window, xpos:xpos+nblocks_per_window].ravel() \n",
        "           \n",
        "#             hog_features = np.hstack((hog_feat1, hog_feat2, hog_feat3))\n",
        "            xleft = xpos*pix_per_cell\n",
        "            ytop = ypos*pix_per_cell\n",
        "\n",
        "            # Extract the image patch\n",
        "            subimg = cv2.resize(ctrans_tosearch[ytop:ytop+window, xleft:xleft+window], (58,58))\n",
        "#             plt.imshow(subimg)\n",
        "#             plt.show\n",
        "            # Get color features\n",
        "#             spatial_features = hp.bin_spatial(subimg, size=spatial_size)\n",
        "#             hist_features = hp.color_hist(subimg, nbins=hist_bins)\n",
        "\n",
        "            # Scale features and make a prediction\n",
        "#             test_features = X_scaler.transform(np.hstack((spatial_features, hog_features)).reshape(1, -1))    \n",
        "            #test_features = X_scaler.transform(np.hstack((shape_feat, hist_feat)).reshape(1, -1))    \n",
        "#             test_features = X_scaler.transform(np.hstack((hog_features)).reshape(1, -1))  \n",
        "            test_prediction = round(inf_model.predict(np.expand_dims(subimg, 0))[0, 0])\n",
        "#             print(test_prediction)\n",
        "#             test_prediction = svc.predict(test_features)\n",
        "            \n",
        "            if test_prediction == 1.0:\n",
        "                xbox_left = np.int(xleft*scale)\n",
        "                ytop_draw = np.int(ytop*scale)\n",
        "                win_draw = np.int(window*scale)\n",
        "                boxes.append(((xbox_left, ytop_draw+ystart),(xbox_left+win_draw,ytop_draw+win_draw+ystart)))\n",
        "                #boxes.append(((xbox_left, ytop_draw+ystart),(xbox_left+win_draw,ytop_draw+win_draw+ystart))#,(0,0,255),6)) \n",
        "                #cv2.rectangle(draw_img,(xbox_left, ytop_draw+ystart),(xbox_left+win_draw,ytop_draw+win_draw+ystart),(0,0,255),6) \n",
        "                \n",
        "    return boxes"
      ],
      "execution_count": 0,
      "outputs": []
    },
    {
      "metadata": {
        "id": "I17VmESzlgFZ",
        "colab_type": "code",
        "colab": {}
      },
      "cell_type": "code",
      "source": [
        "def draw_boxes(img, bboxes, color=(0, 0, 255), thick=6):\n",
        "    # make a copy of the image\n",
        "    draw_img = np.copy(img)\n",
        "    # draw each bounding box on your image copy using cv2.rectangle()\n",
        "    # return the image copy with boxes drawn\n",
        "    for box in bboxes:\n",
        "        cv2.rectangle(draw_img,box[0],box[1],color,thick)\n",
        "    \n",
        "    return draw_img # Change this line to return image copy with boxes"
      ],
      "execution_count": 0,
      "outputs": []
    },
    {
      "metadata": {
        "id": "B-xzLiRQljXt",
        "colab_type": "code",
        "colab": {
          "base_uri": "https://localhost:8080/",
          "height": 351
        },
        "outputId": "e08d1d12-9c69-4fe8-eceb-08b94895ac10"
      },
      "cell_type": "code",
      "source": [
        "import matplotlib.pyplot as plt\n",
        "ystart = 30\n",
        "ystop = 270\n",
        "scale = 1.5\n",
        "pix_per_cell=8\n",
        "cell_per_block=2\n",
        "test_images=glob.glob('*.PNG')\n",
        "# print(test_images)\n",
        "for fname in test_images:\n",
        "#     print(fname)\n",
        "    test_img=cv2.imread(fname)\n",
        "    plt.imshow(test_img)\n",
        "    #plt.subplot(6,1,i)\n",
        "    boxes=find_roots(test_img, ystart, ystop, scale, pix_per_cell,cell_per_block ) #, clf, X_scaler, orient, pix_per_cell, cell_per_block,color_space,spatial_size, hist_bins)\n",
        "    test_out_img=draw_boxes(test_img,boxes)\n",
        "    plt.imshow(test_out_img)\n",
        "    plt.show()"
      ],
      "execution_count": 149,
      "outputs": [
        {
          "output_type": "display_data",
          "data": {
            "image/png": "[encoded data removed]",
            "text/plain": [
              "<matplotlib.figure.Figure at 0x7f1d1385d198>"
            ]
          },
          "metadata": {
            "tags": []
          }
        }
      ]
    },
    {
      "metadata": {
        "id": "UuNwTLSqlqIm",
        "colab_type": "code",
        "colab": {
          "base_uri": "https://localhost:8080/",
          "height": 85
        },
        "outputId": "98e5aefb-aeff-48fb-c416-8dd677fbe762"
      },
      "cell_type": "code",
      "source": [
        "# os.chdir(\"content\")\n",
        "# !git pull origin melbournewater\n",
        "!ls\n",
        "# git pull origin experiment\n",
        "!git clone https://github.com/shreyasrivastava17/test.git"
      ],
      "execution_count": 0,
      "outputs": [
        {
          "output_type": "stream",
          "text": [
            "data\t\t     kerasmodel.h5    sewer_footage1_output.mp4\r\n",
            "Debris Detection     kerasmodel.json  test\r\n",
            "heatmap added.ipynb  README.md\n",
            "fatal: destination path 'test' already exists and is not an empty directory.\n"
          ],
          "name": "stdout"
        }
      ]
    },
    {
      "metadata": {
        "id": "-utT7xAAZGGL",
        "colab_type": "code",
        "colab": {}
      },
      "cell_type": "code",
      "source": [
        "import matplotlib.pyplot as plt\n",
        "# img = cv2.imread(\"test1.PNG\")\n",
        "# print(img.shape)\n",
        "# plt.imshow(img)\n",
        "# # cv2.imshow('image',img)"
      ],
      "execution_count": 0,
      "outputs": []
    },
    {
      "metadata": {
        "id": "Zd-a6f7Uoj_8",
        "colab_type": "code",
        "colab": {
          "base_uri": "https://localhost:8080/",
          "height": 34
        },
        "outputId": "55a7f354-e72d-4fab-c5d2-8429cd11e9ca"
      },
      "cell_type": "code",
      "source": [
        "os.chdir(\"test\")\n",
        "!ls"
      ],
      "execution_count": 0,
      "outputs": [
        {
          "output_type": "stream",
          "text": [
            "README.md  test1.PNG  test2.PNG  test3.PNG  test4.PNG\r\n"
          ],
          "name": "stdout"
        }
      ]
    },
    {
      "metadata": {
        "id": "HA55Mrm3mtmz",
        "colab_type": "code",
        "colab": {
          "base_uri": "https://localhost:8080/",
          "height": 34
        },
        "outputId": "788b5e26-784a-4f8c-a0d8-50f1a333064d"
      },
      "cell_type": "code",
      "source": [
        "im = cv2.imread( \"test/test1.PNG\")\n",
        "im = cv2.resize(im,(58,58))\n",
        "print( round(inf_model.predict(np.expand_dims(im, 0))[0, 0]))"
      ],
      "execution_count": 0,
      "outputs": [
        {
          "output_type": "stream",
          "text": [
            "0.0\n"
          ],
          "name": "stdout"
        }
      ]
    },
    {
      "metadata": {
        "id": "af3PNA-KafWG",
        "colab_type": "code",
        "colab": {
          "base_uri": "https://localhost:8080/",
          "height": 34
        },
        "outputId": "ce083d4f-3239-4ab0-c1da-99341a1c6745"
      },
      "cell_type": "code",
      "source": [
        "!git pull"
      ],
      "execution_count": 0,
      "outputs": [
        {
          "output_type": "stream",
          "text": [
            "Already up-to-date.\r\n"
          ],
          "name": "stdout"
        }
      ]
    },
    {
      "metadata": {
        "id": "guLV6_XwOeaO",
        "colab_type": "code",
        "colab": {}
      },
      "cell_type": "code",
      "source": [
        "from scipy.ndimage.measurements import label\n",
        "def add_heat(heatmap, bbox_list):\n",
        "    # Iterate through list of bboxes\n",
        "    for box in bbox_list:\n",
        "        # Add += 1 for all pixels inside each bbox\n",
        "        # Assuming each \"box\" takes the form ((x1, y1), (x2, y2))\n",
        "        heatmap[box[0][1]:box[1][1], box[0][0]:box[1][0]] += 1\n",
        "\n",
        "    # Return updated heatmap\n",
        "    return heatmap# Iterate through list of bboxes\n",
        "    \n",
        "def apply_threshold(heatmap, threshold):\n",
        "    # Zero out pixels below the threshold\n",
        "    heatmap[heatmap <= threshold] = 0\n",
        "    # Return thresholded map\n",
        "    return heatmap\n",
        "\n",
        "def draw_labeled_bboxes(img, labels):\n",
        "    # Iterate through all detected cars\n",
        "    for car_number in range(1, labels[1]+1):\n",
        "        # Find pixels with each car_number label value\n",
        "        nonzero = (labels[0] == car_number).nonzero()\n",
        "        # Identify x and y values of those pixels\n",
        "        nonzeroy = np.array(nonzero[0])\n",
        "        nonzerox = np.array(nonzero[1])\n",
        "        # Define a bounding box based on min/max x and y\n",
        "        bbox = ((np.min(nonzerox), np.min(nonzeroy)), (np.max(nonzerox), np.max(nonzeroy)))\n",
        "        # Draw the box on the image\n",
        "        cv2.rectangle(img, bbox[0], bbox[1], (0,0,255), 6)\n",
        "    # Return the image\n",
        "    return img"
      ],
      "execution_count": 0,
      "outputs": []
    },
    {
      "metadata": {
        "id": "TVhznsd95_oZ",
        "colab_type": "code",
        "colab": {}
      },
      "cell_type": "code",
      "source": [
        "#print(scales,ystarts)\n",
        "from collections import deque\n",
        "\n",
        "heat_history=deque(maxlen=8)\n",
        "def process_frame(image):\n",
        "    boxes=[]\n",
        "    scales=[0.8,1,1.2]\n",
        "    for i in range(len(scales)):\n",
        "      boxes.append(find_roots(image, ystart, ystop, scales[i], pix_per_cell,cell_per_block )) #find_roots(image, ystart, ystop, scale, svc, X_scaler, orient, pix_per_cell, cell_per_block,color_space,spatial_size, hist_bins))\n",
        "    \n",
        "    boxes = [item for sublist in boxes for item in sublist] \n",
        "    heatmap_img = np.zeros_like(image[:,:,0])\n",
        "    heatmap_img = add_heat(heatmap_img, boxes)\n",
        "    \n",
        "#     heat_history.append(heatmap_img)\n",
        "#     heatmap_img = np.array(heat_history).sum(axis=0)\n",
        "    heatmap_img = apply_threshold(heatmap_img,20)#\n",
        "    \n",
        "    # # Find final boxes from heatmap using label function\n",
        "    labels = label(heatmap_img)#\n",
        "    draw_img = draw_labeled_bboxes(np.copy(image), labels)#\n",
        "#     draw_img = draw_boxes(image,boxes)\n",
        "#     print(boxes)\n",
        "    return draw_img\n",
        "test_images=glob.glob('test/*.PNG')\n",
        "for fname in test_images:\n",
        "#     print(fname)\n",
        "    test_img=cv2.imread(fname)\n",
        "    plt.imshow(test_img)\n",
        "    #plt.subplot(6,1,i)\n",
        "    final_image=process_frame(test_img)\n",
        "    plt.imshow(final_image)\n",
        "    plt.show()\n",
        "# plt.imshow(process_frame(im))\n"
      ],
      "execution_count": 0,
      "outputs": []
    },
    {
      "metadata": {
        "id": "5D6O2jqW-G7e",
        "colab_type": "code",
        "colab": {
          "base_uri": "https://localhost:8080/",
          "height": 51
        },
        "outputId": "ffc5e643-45e8-4057-ea6c-bc23cbdf9a0c"
      },
      "cell_type": "code",
      "source": [
        "# os.chdir(\"Tree_Root_Detection\")\n",
        "!wget https://r2---sn-51uxj5-cvbe.googlevideo.com/videoplayback?ip=191.102.91.234&sparams=clen%2Cdur%2Cei%2Cgir%2Cid%2Cinitcwndbps%2Cip%2Cipbits%2Citag%2Clmt%2Cmime%2Cmm%2Cmn%2Cms%2Cmv%2Cpcm2cms%2Cpl%2Cratebypass%2Crequiressl%2Csource%2Cexpire&fexp=23709359%2C23745105&ei=4URIW-y-MZ7ej-8PjOOF-As&id=o-ABrMOgpF2TNUBGHRpTIXA7Vta2-4tyUl9uWCQYdGhNIU&clen=30980789&requiressl=yes&gir=yes&dur=422.045&initcwndbps=212500&pl=24&ratebypass=yes&source=youtube&pcm2cms=yes&ipbits=0&lmt=1386844977034659&itag=18&fvip=2&expire=1531484481&mime=video%2Fmp4&key=yt6&mm=31%2C29&mn=sn-51uxj5-cvbe%2Csn-cvb7ln7l&c=WEB&mt=1531462841&mv=m&ms=au%2Crdu&signature=18027C4C75DCEAAB5B1E61D4E0A024F3533DECBB.26ADC4907A1973955EDCF5A3F5A659F9BDD0CD87&video_id=j2e6XmTPX5E&title=Plumbing+Camera+-+shows+pipe+needs+sewer+line+repair"
      ],
      "execution_count": 0,
      "outputs": [
        {
          "output_type": "stream",
          "text": [
            "--2018-07-13 06:57:40--  https://r2---sn-51uxj5-cvbe.googlevideo.com/videoplayback?ip=191.102.91.234\r\n",
            "Resolving r2---sn-51uxj5-cvbe.googlevideo.com (r2---sn-51uxj5-cvbe.googlevideo.com)... "
          ],
          "name": "stdout"
        }
      ]
    },
    {
      "metadata": {
        "id": "YVf6mPVhQhUj",
        "colab_type": "code",
        "colab": {
          "base_uri": "https://localhost:8080/",
          "height": 68
        },
        "outputId": "fcbcf284-6e4b-436f-e1f5-70198dc929b4"
      },
      "cell_type": "code",
      "source": [
        "# !git pull\n",
        "# !ls\n",
        "os.chdir(\"../..\")\n",
        "!ls"
      ],
      "execution_count": 135,
      "outputs": [
        {
          "output_type": "stream",
          "text": [
            "data\t\t     kerasmodel.h5    README.md\r\n",
            "Debris Detection     kerasmodel.json  sewer_footage1_output.mp4\r\n",
            "heatmap added.ipynb  model\t      test6.PNG\r\n"
          ],
          "name": "stdout"
        }
      ]
    },
    {
      "metadata": {
        "id": "dPyp5_s8YQbi",
        "colab_type": "code",
        "colab": {
          "base_uri": "https://localhost:8080/",
          "height": 360
        },
        "outputId": "0359a278-b2c8-4c78-e9c8-9c87e1bd35d5"
      },
      "cell_type": "code",
      "source": [
        "!pip install moviepy"
      ],
      "execution_count": 37,
      "outputs": [
        {
          "output_type": "stream",
          "text": [
            "Collecting moviepy\n",
            "\u001b[?25l  Downloading https://files.pythonhosted.org/packages/1f/af/98b68b047c47d9430cb4c9ac899cf9d969de3936f888072991ea74da93a8/moviepy-0.2.3.5.tar.gz (372kB)\n",
            "\u001b[K    100% |████████████████████████████████| 378kB 5.0MB/s \n",
            "\u001b[?25hRequirement already satisfied: decorator<5.0,>=4.0.2 in /usr/local/lib/python3.6/dist-packages (from moviepy) (4.3.0)\n",
            "Collecting imageio<3.0,>=2.1.2 (from moviepy)\n",
            "\u001b[?25l  Downloading https://files.pythonhosted.org/packages/a7/1d/33c8686072148b3b0fcc12a2e0857dd8316b8ae20a0fa66c8d6a6d01c05c/imageio-2.3.0-py2.py3-none-any.whl (3.3MB)\n",
            "\u001b[K    100% |████████████████████████████████| 3.3MB 6.9MB/s \n",
            "\u001b[?25hCollecting tqdm<5.0,>=4.11.2 (from moviepy)\n",
            "\u001b[?25l  Downloading https://files.pythonhosted.org/packages/93/24/6ab1df969db228aed36a648a8959d1027099ce45fad67532b9673d533318/tqdm-4.23.4-py2.py3-none-any.whl (42kB)\n",
            "\u001b[K    100% |████████████████████████████████| 51kB 18.8MB/s \n",
            "\u001b[?25hRequirement already satisfied: numpy in /usr/local/lib/python3.6/dist-packages (from moviepy) (1.14.5)\n",
            "Requirement already satisfied: pillow in /usr/local/lib/python3.6/dist-packages (from imageio<3.0,>=2.1.2->moviepy) (4.0.0)\n",
            "Requirement already satisfied: olefile in /usr/local/lib/python3.6/dist-packages (from pillow->imageio<3.0,>=2.1.2->moviepy) (0.45.1)\n",
            "Building wheels for collected packages: moviepy\n",
            "  Running setup.py bdist_wheel for moviepy ... \u001b[?25l-\b \b\\\b \bdone\n",
            "\u001b[?25h  Stored in directory: /content/.cache/pip/wheels/ad/92/4d/a6c6307d4c2219d002646bd4a5987e31fd5697f6ea7778b2c0\n",
            "Successfully built moviepy\n",
            "Installing collected packages: imageio, tqdm, moviepy\n",
            "Successfully installed imageio-2.3.0 moviepy-0.2.3.5 tqdm-4.23.4\n"
          ],
          "name": "stdout"
        }
      ]
    },
    {
      "metadata": {
        "id": "TLfiSmYa96ao",
        "colab_type": "code",
        "colab": {
          "base_uri": "https://localhost:8080/",
          "height": 68
        },
        "outputId": "22482b7e-06f9-4417-b3a2-98bc164e3554"
      },
      "cell_type": "code",
      "source": [
        "from moviepy.editor import VideoFileClip\n",
        "\n",
        "output_location = 'sewer_footage1_output.mp4'\n",
        "## To speed up the testing process you may want to try your pipeline on a shorter subclip of the video\n",
        "## To do so add .subclip(start_second,end_second) to the end of the line below\n",
        "## Where start_second and end_second are integer values representing the start and end of the subclip\n",
        "## You may also uncomment the following line for a subclip of the first 5 seconds\n",
        "##clip1 = VideoFileClip(\"test_videos/solidWhiteRight.mp4\").subclip(0,5)\n",
        "video_input = VideoFileClip(\"data/test_images/sewer_blockage_video2.mp4\").subclip(8,9)\n",
        "\n",
        "video_output = video_input.fl_image(process_frame) #NOTE: this function expects color images!!\n",
        "\n",
        "#%time undist_clip.write_videofile(undist_output, audio=False)\n",
        "# print(\"anupam\")\n",
        "video_output.write_videofile(output_location, audio=False)\n",
        "video_input.reader.close()\n",
        "video_input.audio.reader.close_proc()\n",
        "video_output.reader.close()\n",
        "video_output.audio.reader.close_proc()"
      ],
      "execution_count": 0,
      "outputs": [
        {
          "output_type": "stream",
          "text": [
            "[MoviePy] >>>> Building video sewer_footage1_output.mp4\n",
            "[MoviePy] Writing video sewer_footage1_output.mp4\n"
          ],
          "name": "stdout"
        },
        {
          "output_type": "stream",
          "text": [
            " 50%|█████     | 13/26 [00:31<00:31,  2.42s/it]"
          ],
          "name": "stderr"
        }
      ]
    },
    {
      "metadata": {
        "id": "eTKGqnLR_6Z9",
        "colab_type": "code",
        "colab": {
          "base_uri": "https://localhost:8080/",
          "height": 68
        },
        "outputId": "dfee3211-68f4-4bee-a604-60b53925e895"
      },
      "cell_type": "code",
      "source": [
        "!ls\n",
        "# !git pull"
      ],
      "execution_count": 144,
      "outputs": [
        {
          "output_type": "stream",
          "text": [
            "data\t\t     kerasmodel.h5    README.md\t\t\t test6.PNG\r\n",
            "Debris Detection     kerasmodel.json  sewer_footage1_output.mp4\r\n",
            "heatmap added.ipynb  model\t      sewer_footage2_output.mp4\r\n"
          ],
          "name": "stdout"
        }
      ]
    },
    {
      "metadata": {
        "id": "PHHl13oRCcx5",
        "colab_type": "code",
        "colab": {}
      },
      "cell_type": "code",
      "source": [
        "from google.colab import files\n",
        "\n",
        "\n",
        "files.download('sewer_footage1_output.mp4')\n"
      ],
      "execution_count": 0,
      "outputs": []
    },
    {
      "metadata": {
        "id": "20-OpaarGcP4",
        "colab_type": "code",
        "colab": {}
      },
      "cell_type": "code",
      "source": [
        "os.chdir('..')"
      ],
      "execution_count": 0,
      "outputs": []
    },
    {
      "metadata": {
        "id": "9jRIn9kjC0t6",
        "colab_type": "code",
        "colab": {}
      },
      "cell_type": "code",
      "source": [
        "\n",
        "from IPython.display import HTML\n",
        "HTML(\"\"\"\n",
        "<video width=\"960\" height=\"540\" controls>\n",
        "  <source src=\"{0}\">\n",
        "</video>\n",
        "\"\"\".format(video_output))\n",
        "\n"
      ],
      "execution_count": 0,
      "outputs": []
    },
    {
      "metadata": {
        "id": "NP8MM27tD-cQ",
        "colab_type": "code",
        "colab": {}
      },
      "cell_type": "code",
      "source": [
        "!git commit -m \"output video\""
      ],
      "execution_count": 0,
      "outputs": []
    },
    {
      "metadata": {
        "id": "cmxNADYUE40f",
        "colab_type": "code",
        "colab": {}
      },
      "cell_type": "code",
      "source": [
        "!git config --global user.email \"anupamb266@gmail.com\"\n",
        "! git config --global user.name \"anupamhap\""
      ],
      "execution_count": 0,
      "outputs": []
    },
    {
      "metadata": {
        "id": "WZjMwHIrFKih",
        "colab_type": "code",
        "colab": {}
      },
      "cell_type": "code",
      "source": [
        "!git push"
      ],
      "execution_count": 0,
      "outputs": []
    },
    {
      "metadata": {
        "id": "uedzWHq_FVJ3",
        "colab_type": "code",
        "colab": {
          "base_uri": "https://localhost:8080/",
          "height": 52
        },
        "outputId": "aa498e54-9cd2-4fe7-ca29-66b74d7e9fe5"
      },
      "cell_type": "code",
      "source": [
        "!ls"
      ],
      "execution_count": 0,
      "outputs": [
        {
          "output_type": "stream",
          "text": [
            "Crack_Detection\t\t   sewer_footage1\t      test_image1.png\r\n",
            "first working model.ipynb  sewer_footage1_output.mp4  Tree_Root_Detection\r\n"
          ],
          "name": "stdout"
        }
      ]
    },
    {
      "metadata": {
        "id": "LO9lG18FGm6a",
        "colab_type": "code",
        "colab": {}
      },
      "cell_type": "code",
      "source": [
        "from google.colab import files\n",
        "\n",
        "\n",
        "files.download('sewer_footage1_output.mp4')"
      ],
      "execution_count": 0,
      "outputs": []
    },
    {
      "metadata": {
        "id": "JmbQo1FFGsIZ",
        "colab_type": "code",
        "colab": {
          "base_uri": "https://localhost:8080/",
          "height": 69
        },
        "outputId": "4fb8d6c0-92a4-422a-e969-186c614cce58"
      },
      "cell_type": "code",
      "source": [
        "!git pull"
      ],
      "execution_count": 0,
      "outputs": [
        {
          "output_type": "stream",
          "text": [
            "fatal: cannot run editor: No such file or directory\r\n",
            "error: unable to start editor 'editor'\r\n",
            "Not committing merge; use 'git commit' to complete the merge.\r\n"
          ],
          "name": "stdout"
        }
      ]
    },
    {
      "metadata": {
        "id": "wJN9ZinCM4A5",
        "colab_type": "code",
        "colab": {
          "base_uri": "https://localhost:8080/",
          "height": 34
        },
        "outputId": "7c9d3e92-dd7b-4469-eb81-a68beec73ef1"
      },
      "cell_type": "code",
      "source": [
        "!git reset"
      ],
      "execution_count": 0,
      "outputs": [
        {
          "output_type": "stream",
          "text": [
            "Saved working directory and index state WIP on master: 905807b output video\r\n"
          ],
          "name": "stdout"
        }
      ]
    },
    {
      "metadata": {
        "id": "9XJ8Utx0NDpo",
        "colab_type": "code",
        "colab": {}
      },
      "cell_type": "code",
      "source": [
        ""
      ],
      "execution_count": 0,
      "outputs": []
    }
  ]
}